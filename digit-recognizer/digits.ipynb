{
 "cells": [
  {
   "cell_type": "code",
   "execution_count": 142,
   "id": "d5f762b2",
   "metadata": {},
   "outputs": [],
   "source": [
    "import pandas as pd"
   ]
  },
  {
   "cell_type": "code",
   "execution_count": 143,
   "id": "3ea38f1c",
   "metadata": {},
   "outputs": [],
   "source": [
    "def loadTrainData():\n",
    "    l=[]\n",
    "    with open('train.csv') as file:\n",
    "         lines=csv.reader(file)\n",
    "         for line in lines:\n",
    "             l.append(line) #42001*785\n",
    "    l.remove(l[0])\n",
    "    l=array(l)\n",
    "    label=l[:,0]\n",
    "    data=l[:,1:]\n",
    "    return nomalizing(toInt(data)),toInt(label)"
   ]
  },
  {
   "cell_type": "code",
   "execution_count": 144,
   "id": "343b79fe",
   "metadata": {},
   "outputs": [],
   "source": [
    "df = pd.read_csv('train.csv')\n",
    "X = df.iloc[:,1:]\n",
    "y = df.iloc[:,0]"
   ]
  },
  {
   "cell_type": "code",
   "execution_count": 145,
   "id": "d7dcc549",
   "metadata": {
    "scrolled": true
   },
   "outputs": [],
   "source": [
    "X = X.applymap(lambda x:1 if x>100 else 0)"
   ]
  },
  {
   "cell_type": "code",
   "execution_count": 165,
   "id": "da540a9d",
   "metadata": {},
   "outputs": [
    {
     "data": {
      "text/plain": [
       "KNeighborsClassifier(n_neighbors=15)"
      ]
     },
     "execution_count": 165,
     "metadata": {},
     "output_type": "execute_result"
    }
   ],
   "source": [
    "from sklearn.neighbors import KNeighborsClassifier\n",
    "knn = KNeighborsClassifier(n_neighbors = 15)\n",
    "knn.fit(X.values,y.values)"
   ]
  },
  {
   "cell_type": "code",
   "execution_count": 166,
   "id": "26a33a3f",
   "metadata": {
    "scrolled": true
   },
   "outputs": [
    {
     "data": {
      "text/plain": [
       "array([[0, 0, 0, ..., 0, 0, 0],\n",
       "       [0, 0, 0, ..., 0, 0, 0],\n",
       "       [0, 0, 0, ..., 0, 0, 0],\n",
       "       ...,\n",
       "       [0, 0, 0, ..., 0, 0, 0],\n",
       "       [0, 0, 0, ..., 0, 0, 0],\n",
       "       [0, 0, 0, ..., 0, 0, 0]], dtype=int64)"
      ]
     },
     "execution_count": 166,
     "metadata": {},
     "output_type": "execute_result"
    }
   ],
   "source": [
    "test = pd.read_csv('test.csv')\n",
    "test.values"
   ]
  },
  {
   "cell_type": "code",
   "execution_count": 167,
   "id": "8c94a0f8",
   "metadata": {},
   "outputs": [],
   "source": [
    "y_pred = knn.predict(test)"
   ]
  },
  {
   "cell_type": "code",
   "execution_count": 168,
   "id": "5a4cb082",
   "metadata": {},
   "outputs": [],
   "source": [
    "answer = pd.read_csv('KNN_benchmark.csv')\n",
    "y_true = answer['Label'].values"
   ]
  },
  {
   "cell_type": "code",
   "execution_count": 169,
   "id": "fc02b745",
   "metadata": {},
   "outputs": [
    {
     "data": {
      "text/plain": [
       "0.8060714285714285"
      ]
     },
     "execution_count": 169,
     "metadata": {},
     "output_type": "execute_result"
    }
   ],
   "source": [
    "from sklearn.metrics import accuracy_score\n",
    "accuracy_score(y_true, y_pred)"
   ]
  },
  {
   "cell_type": "code",
   "execution_count": 170,
   "id": "592c32ae",
   "metadata": {},
   "outputs": [
    {
     "data": {
      "text/html": [
       "<div>\n",
       "<style scoped>\n",
       "    .dataframe tbody tr th:only-of-type {\n",
       "        vertical-align: middle;\n",
       "    }\n",
       "\n",
       "    .dataframe tbody tr th {\n",
       "        vertical-align: top;\n",
       "    }\n",
       "\n",
       "    .dataframe thead th {\n",
       "        text-align: right;\n",
       "    }\n",
       "</style>\n",
       "<table border=\"1\" class=\"dataframe\">\n",
       "  <thead>\n",
       "    <tr style=\"text-align: right;\">\n",
       "      <th></th>\n",
       "      <th>y_true</th>\n",
       "      <th>y_pred</th>\n",
       "    </tr>\n",
       "  </thead>\n",
       "  <tbody>\n",
       "    <tr>\n",
       "      <th>0</th>\n",
       "      <td>2</td>\n",
       "      <td>2</td>\n",
       "    </tr>\n",
       "    <tr>\n",
       "      <th>1</th>\n",
       "      <td>0</td>\n",
       "      <td>0</td>\n",
       "    </tr>\n",
       "    <tr>\n",
       "      <th>2</th>\n",
       "      <td>9</td>\n",
       "      <td>9</td>\n",
       "    </tr>\n",
       "    <tr>\n",
       "      <th>3</th>\n",
       "      <td>9</td>\n",
       "      <td>0</td>\n",
       "    </tr>\n",
       "    <tr>\n",
       "      <th>4</th>\n",
       "      <td>3</td>\n",
       "      <td>3</td>\n",
       "    </tr>\n",
       "    <tr>\n",
       "      <th>...</th>\n",
       "      <td>...</td>\n",
       "      <td>...</td>\n",
       "    </tr>\n",
       "    <tr>\n",
       "      <th>27995</th>\n",
       "      <td>9</td>\n",
       "      <td>9</td>\n",
       "    </tr>\n",
       "    <tr>\n",
       "      <th>27996</th>\n",
       "      <td>7</td>\n",
       "      <td>7</td>\n",
       "    </tr>\n",
       "    <tr>\n",
       "      <th>27997</th>\n",
       "      <td>3</td>\n",
       "      <td>3</td>\n",
       "    </tr>\n",
       "    <tr>\n",
       "      <th>27998</th>\n",
       "      <td>9</td>\n",
       "      <td>9</td>\n",
       "    </tr>\n",
       "    <tr>\n",
       "      <th>27999</th>\n",
       "      <td>2</td>\n",
       "      <td>2</td>\n",
       "    </tr>\n",
       "  </tbody>\n",
       "</table>\n",
       "<p>28000 rows × 2 columns</p>\n",
       "</div>"
      ],
      "text/plain": [
       "       y_true  y_pred\n",
       "0           2       2\n",
       "1           0       0\n",
       "2           9       9\n",
       "3           9       0\n",
       "4           3       3\n",
       "...       ...     ...\n",
       "27995       9       9\n",
       "27996       7       7\n",
       "27997       3       3\n",
       "27998       9       9\n",
       "27999       2       2\n",
       "\n",
       "[28000 rows x 2 columns]"
      ]
     },
     "execution_count": 170,
     "metadata": {},
     "output_type": "execute_result"
    }
   ],
   "source": [
    "tmp = pd.DataFrame({'y_true':y_true,'y_pred':y_pred})\n",
    "tmp"
   ]
  },
  {
   "cell_type": "code",
   "execution_count": 171,
   "id": "a9d15e2d",
   "metadata": {},
   "outputs": [
    {
     "data": {
      "text/plain": [
       "0         True\n",
       "1         True\n",
       "2         True\n",
       "3        False\n",
       "4         True\n",
       "         ...  \n",
       "27995     True\n",
       "27996     True\n",
       "27997     True\n",
       "27998     True\n",
       "27999     True\n",
       "Length: 28000, dtype: bool"
      ]
     },
     "execution_count": 171,
     "metadata": {},
     "output_type": "execute_result"
    }
   ],
   "source": [
    "tmp['y_true'] == tmp['y_pred']"
   ]
  },
  {
   "cell_type": "code",
   "execution_count": 172,
   "id": "780d8e34",
   "metadata": {},
   "outputs": [],
   "source": [
    "tmp['equal'] = (tmp['y_true'] == tmp['y_pred'])"
   ]
  },
  {
   "cell_type": "code",
   "execution_count": 173,
   "id": "4291772e",
   "metadata": {},
   "outputs": [
    {
     "data": {
      "text/html": [
       "<div>\n",
       "<style scoped>\n",
       "    .dataframe tbody tr th:only-of-type {\n",
       "        vertical-align: middle;\n",
       "    }\n",
       "\n",
       "    .dataframe tbody tr th {\n",
       "        vertical-align: top;\n",
       "    }\n",
       "\n",
       "    .dataframe thead th {\n",
       "        text-align: right;\n",
       "    }\n",
       "</style>\n",
       "<table border=\"1\" class=\"dataframe\">\n",
       "  <thead>\n",
       "    <tr style=\"text-align: right;\">\n",
       "      <th></th>\n",
       "      <th>y_true</th>\n",
       "      <th>y_pred</th>\n",
       "      <th>equal</th>\n",
       "    </tr>\n",
       "  </thead>\n",
       "  <tbody>\n",
       "    <tr>\n",
       "      <th>0</th>\n",
       "      <td>2</td>\n",
       "      <td>2</td>\n",
       "      <td>True</td>\n",
       "    </tr>\n",
       "    <tr>\n",
       "      <th>1</th>\n",
       "      <td>0</td>\n",
       "      <td>0</td>\n",
       "      <td>True</td>\n",
       "    </tr>\n",
       "    <tr>\n",
       "      <th>2</th>\n",
       "      <td>9</td>\n",
       "      <td>9</td>\n",
       "      <td>True</td>\n",
       "    </tr>\n",
       "    <tr>\n",
       "      <th>3</th>\n",
       "      <td>9</td>\n",
       "      <td>0</td>\n",
       "      <td>False</td>\n",
       "    </tr>\n",
       "    <tr>\n",
       "      <th>4</th>\n",
       "      <td>3</td>\n",
       "      <td>3</td>\n",
       "      <td>True</td>\n",
       "    </tr>\n",
       "    <tr>\n",
       "      <th>...</th>\n",
       "      <td>...</td>\n",
       "      <td>...</td>\n",
       "      <td>...</td>\n",
       "    </tr>\n",
       "    <tr>\n",
       "      <th>27995</th>\n",
       "      <td>9</td>\n",
       "      <td>9</td>\n",
       "      <td>True</td>\n",
       "    </tr>\n",
       "    <tr>\n",
       "      <th>27996</th>\n",
       "      <td>7</td>\n",
       "      <td>7</td>\n",
       "      <td>True</td>\n",
       "    </tr>\n",
       "    <tr>\n",
       "      <th>27997</th>\n",
       "      <td>3</td>\n",
       "      <td>3</td>\n",
       "      <td>True</td>\n",
       "    </tr>\n",
       "    <tr>\n",
       "      <th>27998</th>\n",
       "      <td>9</td>\n",
       "      <td>9</td>\n",
       "      <td>True</td>\n",
       "    </tr>\n",
       "    <tr>\n",
       "      <th>27999</th>\n",
       "      <td>2</td>\n",
       "      <td>2</td>\n",
       "      <td>True</td>\n",
       "    </tr>\n",
       "  </tbody>\n",
       "</table>\n",
       "<p>28000 rows × 3 columns</p>\n",
       "</div>"
      ],
      "text/plain": [
       "       y_true  y_pred  equal\n",
       "0           2       2   True\n",
       "1           0       0   True\n",
       "2           9       9   True\n",
       "3           9       0  False\n",
       "4           3       3   True\n",
       "...       ...     ...    ...\n",
       "27995       9       9   True\n",
       "27996       7       7   True\n",
       "27997       3       3   True\n",
       "27998       9       9   True\n",
       "27999       2       2   True\n",
       "\n",
       "[28000 rows x 3 columns]"
      ]
     },
     "execution_count": 173,
     "metadata": {},
     "output_type": "execute_result"
    }
   ],
   "source": [
    "tmp"
   ]
  },
  {
   "cell_type": "code",
   "execution_count": 174,
   "id": "605b8a14",
   "metadata": {},
   "outputs": [],
   "source": [
    "tmp.equal = tmp['equal'].map(lambda x:1 if x == True else 0)"
   ]
  },
  {
   "cell_type": "code",
   "execution_count": 175,
   "id": "2d132df7",
   "metadata": {},
   "outputs": [
    {
     "data": {
      "text/plain": [
       "1    0.806071\n",
       "0    0.193929\n",
       "Name: equal, dtype: float64"
      ]
     },
     "execution_count": 175,
     "metadata": {},
     "output_type": "execute_result"
    }
   ],
   "source": [
    "tmp.equal.value_counts(normalize=True)"
   ]
  },
  {
   "cell_type": "code",
   "execution_count": 164,
   "id": "60dd826d",
   "metadata": {},
   "outputs": [
    {
     "data": {
      "text/plain": [
       "<matplotlib.image.AxesImage at 0x1dba0c96340>"
      ]
     },
     "execution_count": 164,
     "metadata": {},
     "output_type": "execute_result"
    },
    {
     "data": {
      "image/png": "[encoded data removed]",
      "text/plain": [
       "<Figure size 432x288 with 1 Axes>"
      ]
     },
     "metadata": {
      "needs_background": "light"
     },
     "output_type": "display_data"
    }
   ],
   "source": [
    "import matplotlib.pyplot as plt\n",
    "plt.imshow(fig2)"
   ]
  },
  {
   "cell_type": "code",
   "execution_count": 184,
   "id": "e9b2fcf0",
   "metadata": {},
   "outputs": [],
   "source": [
    "df = pd.DataFrame({'Label':y_pred})\n",
    "df = df.reset_index()\n",
    "df['index'] = df.index.map(lambda x:x+1)\n",
    "df.to_csv('answer.csv')"
   ]
  },
  {
   "cell_type": "code",
   "execution_count": 2,
   "id": "42f914ad",
   "metadata": {},
   "outputs": [],
   "source": [
    "def nomalizing(array):\n",
    "    m,n=shape(array)\n",
    "    for i in xrange(m):\n",
    "        for j in xrange(n):\n",
    "            if array[i,j]!=0:\n",
    "                array[i,j]=1\n",
    "    return array"
   ]
  },
  {
   "cell_type": "code",
   "execution_count": 3,
   "id": "6a355687",
   "metadata": {},
   "outputs": [],
   "source": [
    "def loadTestData():\n",
    "    l=[]\n",
    "    with open('test.csv') as file:\n",
    "         lines=csv.reader(file)\n",
    "         for line in lines:\n",
    "             l.append(line)\n",
    "     #28001*784\n",
    "    l.remove(l[0])\n",
    "    data=array(l)\n",
    "    return nomalizing(toInt(data))  "
   ]
  },
  {
   "cell_type": "code",
   "execution_count": 4,
   "id": "fcc0467b",
   "metadata": {},
   "outputs": [],
   "source": [
    "def loadTestResult():\n",
    "    l=[]\n",
    "    with open('knn_benchmark.csv') as file:\n",
    "         lines=csv.reader(file)\n",
    "         for line in lines:\n",
    "             l.append(line)\n",
    "     #28001*2\n",
    "    l.remove(l[0])\n",
    "    label=array(l)\n",
    "    return toInt(label[:,1])"
   ]
  },
  {
   "cell_type": "code",
   "execution_count": 5,
   "id": "678f189e",
   "metadata": {},
   "outputs": [],
   "source": [
    "def classify(inX, dataSet, labels, k):\n",
    "    inX=mat(inX)\n",
    "    dataSet=mat(dataSet)\n",
    "    labels=mat(labels)\n",
    "    dataSetSize = dataSet.shape[0]                  \n",
    "    diffMat = tile(inX, (dataSetSize,1)) - dataSet   \n",
    "    sqDiffMat = array(diffMat)**2\n",
    "    sqDistances = sqDiffMat.sum(axis=1)                  \n",
    "    distances = sqDistances**0.5\n",
    "    sortedDistIndicies = distances.argsort()            \n",
    "    classCount={}                                      \n",
    "    for i in range(k):\n",
    "        voteIlabel = labels[0,sortedDistIndicies[i]]\n",
    "        classCount[voteIlabel] = classCount.get(voteIlabel,0) + 1\n",
    "    sortedClassCount = sorted(classCount.iteritems(), key=operator.itemgetter(1), reverse=True)\n",
    "    return sortedClassCount[0][0]"
   ]
  },
  {
   "cell_type": "code",
   "execution_count": 6,
   "id": "91d14cff",
   "metadata": {},
   "outputs": [],
   "source": [
    "def saveResult(result):\n",
    "    with open('result.csv','wb') as myFile:    \n",
    "        myWriter=csv.writer(myFile)\n",
    "        for i in result:\n",
    "            tmp=[]\n",
    "            tmp.append(i)\n",
    "            myWriter.writerow(tmp)"
   ]
  },
  {
   "cell_type": "code",
   "execution_count": 8,
   "id": "df8eca09",
   "metadata": {},
   "outputs": [
    {
     "ename": "SyntaxError",
     "evalue": "invalid syntax (<ipython-input-8-a433f79d3c55>, line 11)",
     "output_type": "error",
     "traceback": [
      "\u001b[1;36m  File \u001b[1;32m\"<ipython-input-8-a433f79d3c55>\"\u001b[1;36m, line \u001b[1;32m11\u001b[0m\n\u001b[1;33m    print \"the classifier came back with: %d, the real answer is: %d\" % (classifierResult, testLabel[0,i])\u001b[0m\n\u001b[1;37m          ^\u001b[0m\n\u001b[1;31mSyntaxError\u001b[0m\u001b[1;31m:\u001b[0m invalid syntax\n"
     ]
    }
   ],
   "source": [
    "def handwritingClassTest():\n",
    "    trainData,trainLabel=loadTrainData()\n",
    "    testData=loadTestData()\n",
    "    testLabel=loadTestResult()\n",
    "    m,n=shape(testData)\n",
    "    errorCount=0\n",
    "    resultList=[]\n",
    "    for i in range(m):\n",
    "         classifierResult = classify(testData[i], trainData, trainLabel, 5)\n",
    "         resultList.append(classifierResult)\n",
    "         print (\"the classifier came back with: %d, the real answer is: %d\" % (classifierResult, testLabel[0,i]))\n",
    "         if (classifierResult != testLabel[0,i]): \n",
    "            errorCount += 1.0\n",
    "    print (\"\\nthe total number of errors is: %d\" % errorCount)\n",
    "    print (\"\\nthe total error rate is: %f\" % (errorCount/float(m)))\n",
    "    saveResult(resultList)"
   ]
  },
  {
   "cell_type": "code",
   "execution_count": null,
   "id": "f88fcf4b",
   "metadata": {},
   "outputs": [],
   "source": []
  }
 ],
 "metadata": {
  "kernelspec": {
   "display_name": "Python 3",
   "language": "python",
   "name": "python3"
  },
  "language_info": {
   "codemirror_mode": {
    "name": "ipython",
    "version": 3
   },
   "file_extension": ".py",
   "mimetype": "text/x-python",
   "name": "python",
   "nbconvert_exporter": "python",
   "pygments_lexer": "ipython3",
   "version": "3.8.8"
  },
  "toc": {
   "base_numbering": 1,
   "nav_menu": {},
   "number_sections": true,
   "sideBar": true,
   "skip_h1_title": false,
   "title_cell": "Table of Contents",
   "title_sidebar": "Contents",
   "toc_cell": false,
   "toc_position": {},
   "toc_section_display": true,
   "toc_window_display": false
  }
 },
 "nbformat": 4,
 "nbformat_minor": 5
}
